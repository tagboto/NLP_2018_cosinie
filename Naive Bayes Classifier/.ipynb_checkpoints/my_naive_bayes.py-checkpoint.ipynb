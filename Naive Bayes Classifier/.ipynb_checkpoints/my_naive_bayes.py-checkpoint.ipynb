{
 "cells": [
  {
   "cell_type": "code",
   "execution_count": 222,
   "metadata": {
    "collapsed": false
   },
   "outputs": [],
   "source": [
    "import math as m \n",
    "import numpy as np\n",
    "import re"
   ]
  },
  {
   "cell_type": "code",
   "execution_count": 223,
   "metadata": {
    "collapsed": false
   },
   "outputs": [],
   "source": [
    "def readToDict(filename):\n",
    "    allClasses = {}\n",
    "    for line in open(filename):\n",
    "        cleanLine = re.sub(r\"[\\n\\t!';:&*():?%$#+]\",\"\",line.lower())\n",
    "        review = re.sub(r\"[/,.-]\",\" \",cleanLine)\n",
    "        val = int(review[-1][-1])\n",
    "        if val in allClasses:\n",
    "            allClasses[val].append(review[:-1])\n",
    "    \n",
    "        else:\n",
    "            allClasses[val] = [review[:-1]]\n",
    "    return allClasses\n"
   ]
  },
  {
   "cell_type": "code",
   "execution_count": 224,
   "metadata": {
    "collapsed": false
   },
   "outputs": [],
   "source": [
    "\n",
    "def trainAndTest(allClasses):\n",
    "    testClasses =  {0:allClasses[0][400:500],1:allClasses[1][400:500]}\n",
    "    trainClasses = {0:allClasses[0][0:400],1:allClasses[1][0:400]}\n",
    "    \n",
    "    return testClasses, trainClasses\n",
    "                                                "
   ]
  },
  {
   "cell_type": "code",
   "execution_count": null,
   "metadata": {
    "collapsed": true
   },
   "outputs": [],
   "source": []
  },
  {
   "cell_type": "code",
   "execution_count": 225,
   "metadata": {
    "collapsed": false
   },
   "outputs": [],
   "source": [
    "def posDict(allClasses):\n",
    "    posClass = {}\n",
    "    count = 0\n",
    "    for line in allClasses[1]:\n",
    "        for word in line.split(): \n",
    "            if word in posClass :\n",
    "                posClass[word]+=1\n",
    "                count +=1\n",
    "    \n",
    "            else:\n",
    "                posClass[word] = 1\n",
    "                count +=1\n",
    "    return(count,posClass)\n"
   ]
  },
  {
   "cell_type": "code",
   "execution_count": 226,
   "metadata": {
    "collapsed": false
   },
   "outputs": [],
   "source": [
    "def negDict(allClasses):\n",
    "    negClass = {}\n",
    "    count = 0\n",
    "    for line in allClasses[0]: \n",
    "        for word in line.split(): \n",
    "            if word in negClass :\n",
    "                negClass[word]+=1\n",
    "                count+=1\n",
    "    \n",
    "            else:\n",
    "                negClass[word] = 1\n",
    "                count +=1\n",
    "    return(count,negClass)\n",
    "    \n"
   ]
  },
  {
   "cell_type": "code",
   "execution_count": 227,
   "metadata": {
    "collapsed": false
   },
   "outputs": [],
   "source": [
    "def logPrior(trainClasses):\n",
    "    poslogPrior = np.log(len(trainClasses[0])\n",
    "                         /(len(trainClasses[0])+len(trainClasses[1])))\n",
    "    neglogPrior = np.log(len(trainClasses[1])/(len(trainClasses[0])+len(trainClasses[1])))\n",
    "    \n",
    "    return poslogPrior, neglogPrior\n",
    "    "
   ]
  },
  {
   "cell_type": "code",
   "execution_count": 228,
   "metadata": {
    "collapsed": false
   },
   "outputs": [
    {
     "name": "stdout",
     "output_type": "stream",
     "text": [
      "1005\n",
      "\n"
     ]
    }
   ],
   "source": [
    "def totalDict(posDict, negDict):\n",
    "    totalDict = posDict.copy()   # start with x's keys and values\n",
    "    for key in negDict:\n",
    "        if key in totalDict:\n",
    "            totalDict[key] += negDict[key]\n",
    "        else:\n",
    "            totalDict[key] = negDict[key]\n",
    "            \n",
    "       \n",
    "    return totalDict \n",
    "\n",
    "\n",
    "\n"
   ]
  },
  {
   "cell_type": "code",
   "execution_count": null,
   "metadata": {
    "collapsed": true
   },
   "outputs": [],
   "source": [
    "def logLikelihoodPos(trainClasses, posClass, word):\n",
    "    numerator = posClass[word]\n",
    "    print(numerator)\n",
    "    "
   ]
  },
  {
   "cell_type": "code",
   "execution_count": null,
   "metadata": {
    "collapsed": true
   },
   "outputs": [],
   "source": [
    "def logLikelihoodNeg(trainClasses, negClass, word):\n",
    "    numerator = negClass[word]\n",
    "    "
   ]
  },
  {
   "cell_type": "code",
   "execution_count": null,
   "metadata": {
    "collapsed": true
   },
   "outputs": [],
   "source": [
    "allClasses = readToDict('amazon_cells_labelled.txt')\n",
    "trainClasses, testClasses = trainAndTest(allClasses)\n",
    "countP, posClass = posDict(trainClasses)\n",
    "countN, negClass = negDict(trainClasses)\n",
    "totalDict = totalDict(posClass, negClass)\n",
    "poslogPrior, neglogPrior = logPrior(trainClasses)"
   ]
  },
  {
   "cell_type": "code",
   "execution_count": 229,
   "metadata": {
    "collapsed": false
   },
   "outputs": [
    {
     "name": "stdout",
     "output_type": "stream",
     "text": [
      "403\n",
      "415\n",
      "1005\n",
      "986\n",
      "668\n",
      "-0.69314718056 -0.69314718056\n"
     ]
    }
   ],
   "source": [
    "print(len(posClass))\n",
    "print(len(negClass))\n",
    "print(countP)\n",
    "print(countN)\n",
    "print(len(totalDict))\n",
    "print(poslogPrior, neglogPrior)"
   ]
  }
 ],
 "metadata": {
  "kernelspec": {
   "display_name": "Python 3",
   "language": "python",
   "name": "python3"
  },
  "language_info": {
   "codemirror_mode": {
    "name": "ipython",
    "version": 3
   },
   "file_extension": ".py",
   "mimetype": "text/x-python",
   "name": "python",
   "nbconvert_exporter": "python",
   "pygments_lexer": "ipython3",
   "version": "3.6.0"
  }
 },
 "nbformat": 4,
 "nbformat_minor": 2
}
