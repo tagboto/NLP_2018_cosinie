{
 "cells": [
  {
   "cell_type": "code",
   "execution_count": 113,
   "metadata": {
    "collapsed": true
   },
   "outputs": [],
   "source": [
    "#import math as m \n",
    "import re"
   ]
  },
  {
   "cell_type": "code",
   "execution_count": 114,
   "metadata": {
    "collapsed": false
   },
   "outputs": [],
   "source": [
    "def readToDict(filename):\n",
    "    allClasses = {}\n",
    "    for line in open(filename):\n",
    "        cleanLine = re.sub(r\"[\\n\\t!';:&*():?%$#+]\",\"\",line.lower())\n",
    "        review = re.sub(r\"[/,.-]\",\" \",cleanLine)\n",
    "        val = int(review[-1][-1])\n",
    "        if val in allClasses:\n",
    "            allClasses[val].append(review[:-1])\n",
    "    \n",
    "        else:\n",
    "            allClasses[val] = [review[:-1]]\n",
    "    return(allClasses)\n"
   ]
  },
  {
   "cell_type": "code",
   "execution_count": 115,
   "metadata": {
    "collapsed": false
   },
   "outputs": [],
   "source": [
    "def posDict(allClasses):\n",
    "    posClass = {}\n",
    "    count = 0\n",
    "    for line in allClasses[1]:\n",
    "        for word in line.split(): \n",
    "            if word in posClass :\n",
    "                posClass[word]+=1\n",
    "    \n",
    "            else:\n",
    "                posClass[word] = 1\n",
    "                count +=1\n",
    "    return(count,posClass)\n"
   ]
  },
  {
   "cell_type": "code",
   "execution_count": 116,
   "metadata": {
    "collapsed": false
   },
   "outputs": [],
   "source": [
    "def negDict(allClasses):\n",
    "    negClass = {}\n",
    "    count = 0\n",
    "    for line in allClasses[0]: \n",
    "        for word in line.split(): \n",
    "            if word in negClass :\n",
    "                negClass[word]+=1\n",
    "    \n",
    "            else:\n",
    "                negClass[word] = 1\n",
    "                count +=1\n",
    "    return(count,negClass)\n",
    "    \n"
   ]
  },
  {
   "cell_type": "code",
   "execution_count": 117,
   "metadata": {
    "collapsed": false
   },
   "outputs": [
    {
     "name": "stdout",
     "output_type": "stream",
     "text": [
      "14\n",
      "14\n"
     ]
    }
   ],
   "source": [
    "def totalDict(posDict, negDict):\n",
    "    totalDict = posDict.copy()   # start with x's keys and values\n",
    "    for key in negDict:\n",
    "        if key in totalDict:\n",
    "            totalDict[key] += negDict[key]\n",
    "        else:\n",
    "            totalDict[key] = negDict[key]\n",
    "            \n",
    "       \n",
    "    return totalDict \n",
    "\n",
    "allClasses = readToDict('amazon_cells_labelled.txt')\n",
    "countP, posClass = posDict(allClasses)\n",
    "countN, negClass = negDict(allClasses)\n",
    "totalDict = totalDict(posClass, negClass)\n"
   ]
  }
 ],
 "metadata": {
  "kernelspec": {
   "display_name": "Python 3",
   "language": "python",
   "name": "python3"
  },
  "language_info": {
   "codemirror_mode": {
    "name": "ipython",
    "version": 3
   },
   "file_extension": ".py",
   "mimetype": "text/x-python",
   "name": "python",
   "nbconvert_exporter": "python",
   "pygments_lexer": "ipython3",
   "version": "3.6.0"
  }
 },
 "nbformat": 4,
 "nbformat_minor": 2
}
