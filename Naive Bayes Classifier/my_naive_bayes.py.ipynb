{
 "cells": [
  {
   "cell_type": "markdown",
   "metadata": {},
   "source": [
    "# Natural Language Processing Assignment\n",
    "\n",
    "Name: Zoe\n",
    "\n",
    "$$\\frac{count(w_{i}, c)+1}{\\sum_{wev}^{}(count(w, c)+1)}$$"
   ]
  },
  {
   "cell_type": "code",
   "execution_count": 2,
   "metadata": {
    "collapsed": true
   },
   "outputs": [],
   "source": [
    "import numpy as np\n",
    "import re\n",
    "from collections import Counter\n",
    "from itertools import chain"
   ]
  },
  {
   "cell_type": "code",
   "execution_count": 3,
   "metadata": {
    "collapsed": false
   },
   "outputs": [],
   "source": [
    "def readToDict(*filenames):\n",
    "    allClasses = {}\n",
    "    for filename in filenames:\n",
    "        for line in open(filename):\n",
    "            cleanLine = re.sub(r\"[\\n\\t!';:&*():?%$#+]\",\"\",line.lower())\n",
    "            review = re.sub(r\"[/,.-]\",\" \",cleanLine)\n",
    "            val = int(review[-1][-1])\n",
    "            if val in allClasses:\n",
    "                allClasses[val].append(review[:-1].split())\n",
    "            else:\n",
    "                allClasses[val] = [review[:-1].split()]\n",
    "    return allClasses\n"
   ]
  },
  {
   "cell_type": "markdown",
   "metadata": {},
   "source": [
    "<i>Below we define the function to split our data into test and training sets</i>"
   ]
  },
  {
   "cell_type": "code",
   "execution_count": 4,
   "metadata": {
    "collapsed": false
   },
   "outputs": [],
   "source": [
    "def trainAndTest(allClasses):\n",
    "    totalAmount = len(allClasses[0])\n",
    "    trainAmount = round(0.8* totalAmount)\n",
    "    \n",
    "    testClasses =  {0:allClasses[0][trainAmount:totalAmount],1:allClasses[1][trainAmount:totalAmount]}\n",
    "    trainClasses = {0:allClasses[0][0:trainAmount],1:allClasses[1][0:trainAmount]}\n",
    "    \n",
    "    return testClasses, trainClasses\n",
    "                                                "
   ]
  },
  {
   "cell_type": "code",
   "execution_count": 5,
   "metadata": {
    "collapsed": false
   },
   "outputs": [],
   "source": [
    "def posDict(allClasses):\n",
    "    words = list(chain.from_iterable(allClasses[1]))\n",
    "    posClass = Counter(words)\n",
    "    \n",
    "#     posClass = {}\n",
    "#     for line in allClasses[1]:\n",
    "#         for word in line.split(): \n",
    "#             if word in posClass :\n",
    "#                 posClass[word]+=1\n",
    "    \n",
    "#             else:\n",
    "#                 posClass[word] = 1\n",
    "    return(posClass)\n"
   ]
  },
  {
   "cell_type": "code",
   "execution_count": 6,
   "metadata": {
    "collapsed": false
   },
   "outputs": [],
   "source": [
    "def negDict(allClasses):\n",
    "    words = list(chain.from_iterable(allClasses[0]))\n",
    "    negClass = Counter(words)\n",
    "    \n",
    "#     negClass = {}\n",
    "#     for line in allClasses[0]: \n",
    "#         for word in line.split(): \n",
    "#             if word in negClass :\n",
    "#                 negClass[word]+=1\n",
    "#             else:\n",
    "#                 negClass[word] = 1\n",
    "    return(negClass)\n",
    "    \n"
   ]
  },
  {
   "cell_type": "code",
   "execution_count": 7,
   "metadata": {
    "collapsed": false
   },
   "outputs": [],
   "source": [
    "def logPrior(trainClasses):\n",
    "    poslogPrior = np.log(len(trainClasses[0])\n",
    "                         /(len(trainClasses[0])+len(trainClasses[1])))\n",
    "    neglogPrior = np.log(len(trainClasses[1])/(len(trainClasses[0])+len(trainClasses[1])))\n",
    "    \n",
    "    return poslogPrior, neglogPrior\n",
    "    "
   ]
  },
  {
   "cell_type": "code",
   "execution_count": 8,
   "metadata": {
    "collapsed": false
   },
   "outputs": [],
   "source": [
    "def totalDict(posDict, negDict):\n",
    "    totalDict = posDict.copy()   # start with x's keys and values\n",
    "    for key in negDict:\n",
    "        if key in totalDict:\n",
    "            totalDict[key] += negDict[key]\n",
    "        else:\n",
    "            totalDict[key] = negDict[key]\n",
    "            \n",
    "       \n",
    "    return totalDict "
   ]
  },
  {
   "cell_type": "code",
   "execution_count": 9,
   "metadata": {
    "collapsed": false
   },
   "outputs": [],
   "source": [
    "def logLikelihoodPos(totalDict, posClass, word):\n",
    "    if word in posClass.keys():\n",
    "        numerator = posClass[word] +1\n",
    "    else:\n",
    "        numerator = 1\n",
    "    denominator = 0 \n",
    "    \n",
    "    for item in totalDict.keys():\n",
    "        if item in posClass.keys():\n",
    "            denominator += 1 + posClass[item]\n",
    "        else:\n",
    "            denominator += 1\n",
    "   \n",
    "    logLikelihoodPos =  np.log(numerator/denominator)\n",
    "    return logLikelihoodPos\n",
    "\n",
    "# denominator = len(set(totalDict.keys()) - set(posClass.keys()))\n",
    "# denominator += sum(posClass.values())"
   ]
  },
  {
   "cell_type": "code",
   "execution_count": 10,
   "metadata": {
    "collapsed": true
   },
   "outputs": [],
   "source": [
    "def logLikelihoodNeg(totalDict, negClass, word):\n",
    "    if word in negClass.keys():\n",
    "        numerator = negClass[word] +1\n",
    "    else:\n",
    "        numerator = 1\n",
    "        \n",
    "    denominator = 0\n",
    "    \n",
    "    for item in totalDict.keys():\n",
    "        if item in negClass.keys():\n",
    "            denominator += 1 + negClass[item]\n",
    "            \n",
    "        else:\n",
    "            denominator += 1\n",
    "    \n",
    "    logLikelihoodNeg = np.log(numerator/denominator)\n",
    "    return logLikelihoodNeg\n",
    "    "
   ]
  },
  {
   "cell_type": "code",
   "execution_count": 11,
   "metadata": {
    "collapsed": true
   },
   "outputs": [],
   "source": [
    "def train(totalDict, posClass, negClass):\n",
    "    likelihoodDict = {}\n",
    "    for key in totalDict.keys():\n",
    "        likelihoodDict[key]=(logLikelihoodPos(totalDict, posClass, key),logLikelihoodNeg(totalDict, negClass, key))\n",
    "        \n",
    "    return likelihoodDict  "
   ]
  },
  {
   "cell_type": "code",
   "execution_count": 12,
   "metadata": {
    "collapsed": true
   },
   "outputs": [],
   "source": [
    "def test(testClasses):     \n",
    "    percentCorrect = 0 \n",
    "    total = 0\n",
    "    \n",
    "    for line in testClasses[0]:\n",
    "        isPos = 0 \n",
    "        isNeg = 0\n",
    "        total+=1\n",
    "        for word in line: \n",
    "            if word in likelihoodDict.keys():\n",
    "                isPos +=likelihoodDict[word][0]\n",
    "                isNeg +=likelihoodDict[word][1]\n",
    "        if isNeg> isPos:\n",
    "            percentCorrect+=1\n",
    "            \n",
    "    for line in testClasses[1]:\n",
    "        isPos = 0 \n",
    "        isNeg = 0\n",
    "        total+=1\n",
    "        for word in line: \n",
    "            if word in likelihoodDict.keys():\n",
    "                isPos +=likelihoodDict[word][0]\n",
    "                isNeg +=likelihoodDict[word][1]\n",
    "        if isNeg< isPos:\n",
    "            percentCorrect+=1\n",
    "    accuracy = (percentCorrect/total)*100\n",
    "    print(\"my accuracy is\", accuracy, \"woo hoo!\")\n",
    "    print(\"the total is\", total)\n",
    "    print(\"correct\", percentCorrect)\n",
    "                \n",
    "    \n",
    "    "
   ]
  },
  {
   "cell_type": "code",
   "execution_count": null,
   "metadata": {
    "collapsed": true
   },
   "outputs": [],
   "source": []
  },
  {
   "cell_type": "code",
   "execution_count": 13,
   "metadata": {
    "collapsed": false
   },
   "outputs": [
    {
     "name": "stdout",
     "output_type": "stream",
     "text": [
      "my accuracy is 71.16666666666667 woo hoo!\n",
      "the total is 2400\n",
      "correct 1708\n"
     ]
    }
   ],
   "source": [
    "allClasses = readToDict('amazon_cells_labelled.txt', 'imdb_labelled.txt','yelp_labelled.txt')\n",
    "#print(len(allClasses[0]))\n",
    "#print(len(allClasses[0])*0.8)\n",
    "trainClasses, testClasses = trainAndTest(allClasses)\n",
    "posClass = posDict(trainClasses)\n",
    "negClass = negDict(trainClasses)\n",
    "totalDict = totalDict(posClass, negClass)\n",
    "poslogPrior, neglogPrior = logPrior(trainClasses)\n",
    "likelihoodDict  = train(totalDict, posClass, negClass)\n",
    "test(testClasses)"
   ]
  },
  {
   "cell_type": "code",
   "execution_count": null,
   "metadata": {
    "collapsed": false
   },
   "outputs": [],
   "source": []
  }
 ],
 "metadata": {
  "kernelspec": {
   "display_name": "Python 3",
   "language": "python",
   "name": "python3"
  },
  "language_info": {
   "codemirror_mode": {
    "name": "ipython",
    "version": 3
   },
   "file_extension": ".py",
   "mimetype": "text/x-python",
   "name": "python",
   "nbconvert_exporter": "python",
   "pygments_lexer": "ipython3",
   "version": "3.6.0"
  }
 },
 "nbformat": 4,
 "nbformat_minor": 2
}
