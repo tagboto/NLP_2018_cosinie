{
 "cells": [
  {
   "cell_type": "markdown",
   "metadata": {},
   "source": [
    "# Natural Language Processing Assignment 1\n",
    "## My Naive Bayes Classifier \n",
    "\n",
    "Name: Zoe Tagboto\n",
    "\n"
   ]
  },
  {
   "cell_type": "code",
   "execution_count": 71,
   "metadata": {
    "collapsed": true
   },
   "outputs": [],
   "source": [
    "import numpy as np\n",
    "import re\n",
    "from collections import Counter\n",
    "from itertools import chain\n",
    "import random\n",
    "import string\n",
    "import sys"
   ]
  },
  {
   "cell_type": "markdown",
   "metadata": {},
   "source": [
    "<i> Below we define a function gathers the reviews from the file, cleans each line, and puts them in a dictionary based on the class of each review </i>"
   ]
  },
  {
   "cell_type": "code",
   "execution_count": 72,
   "metadata": {
    "collapsed": false
   },
   "outputs": [],
   "source": [
    "def read_file_to_dict(*filenames):\n",
    "    all_classes = {}\n",
    "    for filename in filenames:\n",
    "        for line in open(filename):\n",
    "            clean_line = re.sub(r\"[\"\"\\n\\t!'';:&*():?%$#+]\",\"\",line.lower())\n",
    "            clean2 = re.sub(r\"[/,.-]\",\" \",clean_line)\n",
    "            val = int(review[-1][-1])\n",
    "            review = re.sub(r\"[0-9]+\",\"\",clean2[:-1])\n",
    "            if val in all_classes:\n",
    "                all_classes[val].append(review.split())\n",
    "            else:\n",
    "                all_classes[val] = [review.split()]\n",
    "   \n",
    "\n",
    "    return all_classes\n"
   ]
  },
  {
   "cell_type": "markdown",
   "metadata": {},
   "source": [
    "<i>Below we define the function to split our data into test and training sets</i>"
   ]
  },
  {
   "cell_type": "code",
   "execution_count": 73,
   "metadata": {
    "collapsed": false
   },
   "outputs": [],
   "source": [
    "def split_train_and_test(all_classes):\n",
    "    np.random.shuffle(all_classes[0])\n",
    "    np.random.shuffle(all_classes[1])\n",
    "    total_amount = len(all_classes[0])\n",
    "    train_amount = round(0.2* total_amount)\n",
    "    \n",
    "    test_classes =  {0:all_classes[0][train_amount:total_amount],1:all_classes[1][train_amount:total_amount]}\n",
    "    train_classes = {0:all_classes[0][0:train_amount],1:all_classes[1][0:train_amount]}\n",
    "    \n",
    "    return test_classes, train_classes\n",
    "                                                "
   ]
  },
  {
   "cell_type": "markdown",
   "metadata": {},
   "source": [
    "<i> Here we define a function that creates a dictionary for each class that contains each word in the class and how often they are used </i>"
   ]
  },
  {
   "cell_type": "code",
   "execution_count": 74,
   "metadata": {
    "collapsed": false
   },
   "outputs": [],
   "source": [
    "def class_dict(all_classes, index):\n",
    "    words = list(chain.from_iterable(all_classes[index]))\n",
    "    type_class = Counter(words)\n",
    "\n",
    "    return(type_class)\n"
   ]
  },
  {
   "cell_type": "markdown",
   "metadata": {},
   "source": [
    "<i> Here we calculate the log prior which uses the following equation </i>\n",
    "\n",
    "$$\\log \\frac{N_c}{N_{doc}}$$"
   ]
  },
  {
   "cell_type": "code",
   "execution_count": 75,
   "metadata": {
    "collapsed": false
   },
   "outputs": [],
   "source": [
    "def log_prior(train_classes):\n",
    "    pos_log_prior = np.log(len(train_classes[0])\n",
    "                         /(len(train_classes[0])+len(train_classes[1])))\n",
    "    neg_log_prior = np.log(len(train_classes[1])/(len(train_classes[0])+len(train_classes[1])))\n",
    "    \n",
    "    return pos_log_prior, neg_log_prior\n",
    "    "
   ]
  },
  {
   "cell_type": "markdown",
   "metadata": {},
   "source": [
    "<i> Below we define a function that creates a dictionary with a count of every word that occurs in the file </i>"
   ]
  },
  {
   "cell_type": "code",
   "execution_count": 76,
   "metadata": {
    "collapsed": false
   },
   "outputs": [],
   "source": [
    "def complete_vocab_list(pos_dict, neg_dict):\n",
    "    total_dict = pos_dict.copy()   # start with x's keys and values\n",
    "    for key in neg_dict:\n",
    "        if key in total_dict:\n",
    "            total_dict[key] += neg_dict[key]\n",
    "        else:\n",
    "            total_dict[key] = neg_dict[key]\n",
    "            \n",
    "       \n",
    "    return total_dict "
   ]
  },
  {
   "cell_type": "markdown",
   "metadata": {},
   "source": [
    "<i>Below we define the function to calculate the logLikelihood using the following equation:</i>\n",
    "$$\\log \\frac{count(w_{i}, c)+1}{\\sum_{w\\in v}^{}(count(w, c)+1)}$$\n"
   ]
  },
  {
   "cell_type": "code",
   "execution_count": 77,
   "metadata": {
    "collapsed": false
   },
   "outputs": [],
   "source": [
    "def log_likelihood_class(total_dict,Class, word):\n",
    "    if word in Class.keys():\n",
    "        numerator = Class[word] +1\n",
    "    else:\n",
    "        numerator = 1   \n",
    "    \n",
    "    \n",
    "    denominator= len(set(total_dict.keys()) - set(Class.keys()))+len(Class.keys())\n",
    "    denominator+= sum(Class.values())\n",
    "    \n",
    "    log_likelihood =  np.log(numerator/denominator)\n",
    "    \n",
    "    \n",
    "    \n",
    "    return log_likelihood\n",
    "\n"
   ]
  },
  {
   "cell_type": "markdown",
   "metadata": {},
   "source": [
    "<i>Below we calculate the positive and negative likelihood for each word in the training set. We then return a dictionary that has the word as a value and a tuple containing negative and positive reviews</i>\n",
    "\n",
    "For example {good:(-7, -2)}"
   ]
  },
  {
   "cell_type": "code",
   "execution_count": 78,
   "metadata": {
    "collapsed": true
   },
   "outputs": [],
   "source": [
    "def train(total_dict, pos_class, neg_class):\n",
    "    likelihood_dict = {}\n",
    "    for key in total_dict.keys():\n",
    "        likelihood_dict[key]=(log_likelihood_class(total_dict,neg_class, key),log_likelihood_class(total_dict,pos_class, key))\n",
    "        \n",
    "    return likelihood_dict  "
   ]
  },
  {
   "cell_type": "markdown",
   "metadata": {
    "collapsed": true
   },
   "source": [
    "<i> This was a test file so I could check my own accuracy </i>"
   ]
  },
  {
   "cell_type": "code",
   "execution_count": 79,
   "metadata": {
    "collapsed": true
   },
   "outputs": [],
   "source": [
    "def test(test_classes,likelihood_dict):     \n",
    "    number_correct = 0 \n",
    "    total = 0\n",
    "    \n",
    "    for line in test_classes[0]:\n",
    "        is_pos = 0 \n",
    "        is_neg = 0\n",
    "        total+=1\n",
    "        for word in line: \n",
    "            if word in likelihood_dict.keys():\n",
    "                is_pos +=likelihood_dict[word][1]\n",
    "                is_neg +=likelihood_dict[word][0]\n",
    "        if is_neg> is_pos:\n",
    "            number_correct+=1\n",
    "            \n",
    "    for line in test_classes[1]:\n",
    "        is_pos = 0 \n",
    "        is_neg = 0\n",
    "        total+=1\n",
    "        for word in line: \n",
    "            if word in likelihood_dict.keys():\n",
    "                is_pos +=likelihood_dict[word][1]\n",
    "                is_neg +=likelihood_dict[word][0]\n",
    "    \n",
    "        if is_neg< is_pos:\n",
    "            number_correct+=1\n",
    "    \n",
    "    accuracy = (number_correct/total)*100\n",
    "    print(\"my accuracy is\", accuracy, \"woo hoo!\")\n",
    "    print(\"the total tested were\", total)\n",
    "    print(\"the number we got correct were\", number_correct)\n",
    "                \n",
    "    \n",
    "    "
   ]
  },
  {
   "cell_type": "markdown",
   "metadata": {},
   "source": [
    "<i> This is my test function that will test data from unknown file provided by the professor </i>"
   ]
  },
  {
   "cell_type": "code",
   "execution_count": 80,
   "metadata": {
    "collapsed": true
   },
   "outputs": [],
   "source": [
    "def test_main(name_of_file, likelihood_dict):\n",
    "    results= open(\"results.txt\",\"w+\")\n",
    "    for line in open(filename):\n",
    "            clean_line = re.sub(r\"[\"\"\\n\\t!'';:&*():?%$#+]\",\"\",line.lower())\n",
    "            clean_2 = re.sub(r\"[/,.-]\",\" \",clean_line)\n",
    "            review = re.sub(r\"[0-9]+\",\"\",review)\n",
    "            \n",
    "            review2 = review.split()\n",
    "            \n",
    "            for word in review2: \n",
    "                is_pos = 0 \n",
    "                is_neg =0\n",
    "                if word in likelihood_dict.keys():\n",
    "                    is_pos +=likelihood_dict[word][1]\n",
    "                    is_neg +=likelihood_dict[word][0]\n",
    "            \n",
    "            if is_neg> is_pos:\n",
    "                # create document and add 0 to end of sentence\n",
    "                results.write(\"This sentence carries a negative sentiment\", 0)\n",
    "                \n",
    "            elif is_pos>is_neg:\n",
    "                # create document and add 1 to the end of sentence \n",
    "                results.write(\"This sentence carries a positive sentiment\", 1)\n",
    "                \n",
    "            else:\n",
    "                results.write(\"The classifier was unable to determine the sentiment of this file\")\n",
    "            \n",
    "            \n",
    "            \n",
    "            \n",
    "    \n",
    "    "
   ]
  },
  {
   "cell_type": "markdown",
   "metadata": {},
   "source": [
    "<i> Didn't end up using this but in theory I could improve accuracy by removing stop words </i>"
   ]
  },
  {
   "cell_type": "code",
   "execution_count": 81,
   "metadata": {
    "collapsed": true
   },
   "outputs": [],
   "source": [
    "def remove_stop_words(allClasses):\n",
    "    stopList = ['a','about','above','after','again',' all', 'am','an','and','any','are','as','at','az','b','be','because', \n",
    "                'been','before','being','bethe','between','both','but','by','bt','do','does','doing','down','during','each',\n",
    "                'few','for','from','further','had','has','have''having','he','hed','hell','hes','her','here',\n",
    "                'heres','hers','herself','him','himself','his','how','hows','i','id','ill','im','ive''ir','if',\n",
    "                'in','into','is','it','its','lets','me','more','my','myself','of','on','once','only','or','other',\n",
    "                'ought', 'our','ours','ourselves','out','over','own','same','she','shed','shell','shes','should',\n",
    "                'so','some','such','than','that','thats','the','their','theirs','them','themselves','then','there',\n",
    "                'theres','these','they','theyd','theyll','theyre','theyve','this','those','through','to','too','under',\n",
    "                'until','up','very','was','we','wed','well','were','weve','were','what','whats','when','whens','where',\n",
    "                'wheres','which','while','who','whos','whom','why','whys','with','would','you','youd','youll','youre',\n",
    "                'youve','your','yours','yourself','yourselves']\n",
    "    \n",
    "\n"
   ]
  },
  {
   "cell_type": "markdown",
   "metadata": {},
   "source": [
    "<i> This the function that does all the work. It calls all my mini functions and ties everything together</i>"
   ]
  },
  {
   "cell_type": "code",
   "execution_count": null,
   "metadata": {
    "collapsed": true
   },
   "outputs": [],
   "source": [
    "def run_file(name_of_file):\n",
    "    all_classes = read_file_to_dict('amazon_cells_labelled.txt', 'imdb_labelled.txt','yelp_labelled.txt')\n",
    "    train_classes, test_classes = split_train_and_test(all_classes)\n",
    "    pos_class = class_dict(train_classes,1)\n",
    "    neg_class = class_dict(train_classes,0)\n",
    "    total_dict = complete_vocab_list(pos_class, neg_class)\n",
    "    pos_log_prior, neg_log_prior = log_prior(train_classes)\n",
    "    likelihood_dict  = train(total_dict, pos_class, neg_class)\n",
    "    test(test_classes)\n",
    "    test_main(name_of_file)\n",
    "    \n",
    "    "
   ]
  },
  {
   "cell_type": "markdown",
   "metadata": {},
   "source": [
    "<i>This is the main function where you can call everything via the command line</i>"
   ]
  },
  {
   "cell_type": "code",
   "execution_count": 82,
   "metadata": {
    "collapsed": false
   },
   "outputs": [
    {
     "name": "stdout",
     "output_type": "stream",
     "text": [
      "my accuracy is 82.66666666666667 woo hoo!\n",
      "the total tested were 600\n",
      "the number we got correct were 496\n",
      "[['this', 'gets', 'a', 'out', 'of', 'simply', 'because', 'theres', 'nothing', 'lower'], ['eew', 'this', 'location', 'needs', 'a', 'complete', 'overhaul'], ['not', 'a', 'pleasant', 'voyage', 'of', 'self', 'discovery'], ['the', 'fat', 'computer', 'geek', 'was', 'unbelievable', 'the', 'bible', 'thumper', 'the', 'bad', 'ass', 'girl', 'who', 'are', 'these', 'actors'], ['and', 'the', 'drinks', 'are', 'weak', 'people'], ['soggy', 'and', 'not', 'good'], ['as', 'i', 'said', 'above', 'pretty', 'useless'], ['freezes', 'frequently'], ['the', 'building', 'itself', 'seems', 'pretty', 'neat', 'the', 'bathroom', 'is', 'pretty', 'trippy', 'but', 'i', 'wouldnt', 'eat', 'here', 'again'], ['we', 'literally', 'sat', 'there', 'for', 'minutes', 'with', 'no', 'one', 'asking', 'to', 'take', 'our', 'order'], ['strike', 'who', 'wants', 'to', 'be', 'rushed'], ['stay', 'away', 'from', 'the', 'q'], ['by', 'the', 'time', 'the', 'film', 'ended', 'i', 'not', 'only', 'disliked', 'it', 'i', 'despised', 'it'], ['does', 'not', 'fit'], ['performed', 'awful', 'muffled', 'tinny', 'incoming', 'sound', 'and', 'severe', 'echo', 'for', 'those', 'on', 'the', 'other', 'end', 'of', 'the', 'call'], ['if', 'the', 'food', 'isnt', 'bad', 'enough', 'for', 'you', 'then', 'enjoy', 'dealing', 'with', 'the', 'worlds', 'worst', 'annoying', 'drunk', 'people'], ['also', 'the', 'phone', 'doesnt', 'seem', 'to', 'accept', 'anything', 'except', 'cbr', 'mps', 'preferably', 'ripped', 'by', 'windows', 'media', 'player'], ['she', 'was', 'quite', 'disappointed', 'although', 'some', 'blame', 'needs', 'to', 'be', 'placed', 'at', 'her', 'door'], ['by', 'the', 'time', 'the', 'pyromaniac', 'waylaid', 'the', 'assistant', 'i', 'was', 'bored', 'and', 'didnt', 'care', 'what', 'happened', 'next', 'and', 'so', 'i', 'switched', 'off'], ['this', 'place', 'lacked', 'style'], ['i', 'received', 'my', 'supposedly', 'new', 'motorola', 'and', 'apparently', 'there', 'was', 'not', 'a', 'match', 'between', 'the', 'phone', 'and', 'the', 'charger'], ['my', 'rating', 'just', 'out', 'of'], ['dont', 'do', 'it'], ['will', 'not', 'be', 'back'], ['you', 'can', 'find', 'better', 'movies', 'at', 'youtube'], ['very', 'very', 'sad'], ['this', 'place', 'is', 'overpriced', 'not', 'consistent', 'with', 'their', 'boba', 'and', 'it', 'really', 'is', 'overpriced'], ['and', 'the', 'accents', 'are', 'absolutely', 'abysmal'], ['even', 'when', 'the', 'women', 'finally', 'show', 'up', 'there', 'is', 'no', 'sign', 'of', 'improvement', 'the', 'most', 'expected', 'things', 'happen', 'and', 'by', 'the', 'time', 'the', 'film', 'is', 'over', 'you', 'might', 'be', 'far', 'asleep'], ['not', 'impressed'], ['i', 'wasnt', 'expecting', 'oscar', 'material', 'but', 'this'], ['total', 'brunch', 'fail'], ['for', 'that', 'price', 'i', 'can', 'think', 'of', 'a', 'few', 'place', 'i', 'would', 'have', 'much', 'rather', 'gone'], ['the', 'food', 'was', 'barely', 'lukewarm', 'so', 'it', 'must', 'have', 'been', 'sitting', 'waiting', 'for', 'the', 'server', 'to', 'bring', 'it', 'out', 'to', 'us'], ['the', 'movie', 'lacks', 'visual', 'interest', 'drama', 'expression', 'of', 'feeling', 'and', 'celebration', 'of', 'the', 'very', 'patriotism', 'that', 'underlines', 'the', 'narrative'], ['the', 'service', 'here', 'leaves', 'a', 'lot', 'to', 'be', 'desired'], ['avoid', 'at', 'all', 'cost'], ['i', 'did', 'not', 'bother', 'contacting', 'the', 'company', 'for', 'few', 'dollar', 'product', 'but', 'i', 'learned', 'the', 'lesson', 'that', 'i', 'should', 'not', 'have', 'bought', 'this', 'form', 'online', 'anyway'], ['but', 'she', 'is', 'still', 'a', 'bad', 'actress', 'repeating', 'her', 'robotic', 'face', 'moves', 'in', 'each', 'of', 'her', 'pictures'], ['the', 'problem', 'i', 'have', 'is', 'that', 'they', 'charge', 'for', 'a', 'sandwich', 'that', 'is', 'no', 'bigger', 'than', 'a', 'subway', 'sub', 'which', 'offers', 'better', 'and', 'more', 'amount', 'of', 'vegetables'], ['worst', 'hour', 'and', 'a', 'half', 'of', 'my', 'lifeoh', 'my', 'gosh'], ['the', 'plot', 'is', 'nonsense', 'that', 'doesnt', 'interest', 'in', 'the', 'slightest', 'way', 'or', 'have', 'any', 'uniqueness', 'to', 'it'], ['i', 'am', 'going', 'to', 'have', 'to', 'be', 'the', 'first', 'to', 'negatively', 'review', 'this', 'product'], ['one', 'more', 'thing', 'i', 'can', 'tolerate', 'political', 'incorrectness', 'very', 'well', 'im', 'all', 'for', 'artistic', 'freedom', 'and', 'suspension', 'of', 'disbelief', 'but', 'the', 'slavic', 'female', 'character', 'was', 'just', 'too', 'much'], ['does', 'not', 'charge', 'the', 'cingular', 'att', 'phone'], ['painful', 'on', 'the', 'ear'], ['its', 'aggravating'], ['it', 'shouldnt', 'take', 'min', 'for', 'pancakes', 'and', 'eggs'], ['it', 'clicks', 'into', 'place', 'in', 'a', 'way', 'that', 'makes', 'you', 'wonder', 'how', 'long', 'that', 'mechanism', 'would', 'last'], ['the', 'majority', 'of', 'the', 'logitech', 'earbud', 'headsets', 'failed'], ['the', 'plot', 'doesnt', 'hang', 'together', 'at', 'all', 'and', 'the', 'acting', 'is', 'absolutely', 'appalling'], ['i', 'contacted', 'the', 'company', 'and', 'they', 'told', 'me', 'that', 'although', 'the', 'unit', 'was', 'still', 'under', 'warranty', 'if', 'i', 'couldnt', 'produce', 'my', 'receipt', 'i', 'was', 'out', 'of', 'luck'], ['and', 'only', 'because', 'there', 'is', 'no', 'setting', 'for'], ['my', 'wife', 'had', 'the', 'lobster', 'bisque', 'soup', 'which', 'was', 'lukewarm'], ['too', 'bad', 'cause', 'i', 'know', 'its', 'family', 'owned', 'i', 'really', 'wanted', 'to', 'like', 'this', 'place'], ['too', 'politically', 'correct'], ['how', 'awful', 'she', 'is'], ['heres', 'where', 'the', 'movie', 'really', 'pied', 'me', 'off'], ['the', 'nokia', 'ca', 'usb', 'cable', 'did', 'not', 'work', 'with', 'my', 'phone'], ['this', 'results', 'in', 'the', 'phone', 'being', 'either', 'stuck', 'at', 'max', 'volume', 'or', 'mute'], ['hour', 'minutes', 'of', 'sheer', 'tedium', 'melodrama', 'and', 'horrible', 'acting', 'a', 'mess', 'of', 'a', 'script', 'and', 'a', 'sinking', 'feeling', 'of', 'good', 'lord', 'what', 'were', 'they', 'thinking'], ['disappointed'], ['another', 'note', 'about', 'this', 'phones', 'appearance', 'is', 'that', 'it', 'really', 'looks', 'rather', 'bland', 'especially', 'in', 'the', 'all', 'black', 'model'], ['the', 'movie', 'is', 'littered', 'with', 'overt', 'racial', 'slurs', 'towards', 'the', 'black', 'cast', 'members', 'and', 'in', 'return', 'the', 'whites', 'are', 'depicted', 'as', 'morons', 'and', 'boobs'], ['i', 'guess', 'it', 'was', 'supposed', 'to', 'be', 'clever', 'twist', 'then', 'shed', 'some', 'light', 'on', 'the', 'situation', 'but', 'it', 'was', 'just', 'stupid'], ['the', 'acting', 'by', 'the', 'whole', 'cast', 'could', 'be', 'put', 'on', 'a', 'scale', 'and', 'balanced', 'perfectly', 'between', 'overacting', 'and', 'underacting'], ['waste', 'of', 'money'], ['items', 'stated', 'as', 'included', 'from', 'the', 'description', 'are', 'not', 'included'], ['paying', 'for', 'a', 'hot', 'dog', 'and', 'fries', 'that', 'looks', 'like', 'it', 'came', 'out', 'of', 'a', 'kids', 'meal', 'at', 'the', 'wienerschnitzel', 'is', 'not', 'my', 'idea', 'of', 'a', 'good', 'meal'], ['i', 'came', 'over', 'from', 'verizon', 'because', 'cingulair', 'has', 'nicer', 'cell', 'phones', 'the', 'first', 'thing', 'i', 'noticed', 'was', 'the', 'really', 'bad', 'service'], ['what', 'this', 'film', 'lacks', 'is', 'a', 'convincing', 'script'], ['there', 'is', 'simply', 'no', 'excuse', 'for', 'something', 'this', 'poorly', 'done'], ['dont', 'go', 'here'], ['i', 'guess', 'i', 'should', 'have', 'known', 'that', 'this', 'place', 'would', 'suck', 'because', 'it', 'is', 'inside', 'of', 'the', 'excalibur', 'but', 'i', 'didnt', 'use', 'my', 'common', 'sense'], ['oh', 'and', 'i', 'forgot', 'to', 'also', 'mention', 'the', 'weird', 'color', 'effect', 'it', 'has', 'on', 'your', 'phone'], ['it', 'was', 'a', 'very', 'superficial', 'movie', 'and', 'it', 'gave', 'me', 'the', 'feeling', 'that', 'i', 'was', 'watching', 'play', 'rather', 'than', 'a', 'film'], ['its', 'a', 'shame', 'to', 'see', 'good', 'actors', 'like', 'thomerson', 'and', 'james', 'make', 'a', 'living', 'in', 'a', 'mess', 'like', 'this'], ['the', 'fries', 'were', 'not', 'hot', 'and', 'neither', 'was', 'my', 'burger'], ['it', 'is', 'zillion', 'times', 'away', 'from', 'reality'], ['i', 'didnt', 'think', 'that', 'the', 'instructions', 'provided', 'were', 'helpful', 'to', 'me'], ['the', 'casting', 'is', 'also', 'horrible', 'cause', 'all', 'you', 'see', 'is', 'a', 'really', 'really', 'bad', 'actors', 'period'], ['big', 'disappointment', 'with', 'calendar', 'sync'], ['anyways', 'the', 'food', 'was', 'definitely', 'not', 'filling', 'at', 'all', 'and', 'for', 'the', 'price', 'you', 'pay', 'you', 'should', 'expect', 'more'], ['long', 'lasting', 'battery', 'you', 'dont', 'have', 'to', 'recharge', 'it', 'as', 'frequentyly', 'as', 'some', 'of', 'the', 'flip', 'phones'], ['there', 'is', 'no', 'real', 'plot'], ['all', 'three', 'broke', 'within', 'two', 'months', 'of', 'use'], ['i', 'can', 'take', 'a', 'little', 'bad', 'service', 'but', 'the', 'food', 'sucks'], ['however', 'after', 'about', 'a', 'year', 'the', 'fliptop', 'started', 'to', 'get', 'loose', 'and', 'wobbly', 'and', 'eventually', 'my', 'screen', 'went', 'black', 'and', 'i', 'couldnt', 'receive', 'and', 'place', 'calls'], ['im', 'not', 'really', 'sure', 'how', 'joeys', 'was', 'voted', 'best', 'hot', 'dog', 'in', 'the', 'valley', 'by', 'readers', 'of', 'phoenix', 'magazine'], ['customer', 'service', 'was', 'terrible'], ['now', 'we', 'were', 'chosen', 'to', 'be', 'tortured', 'with', 'this', 'disgusting', 'piece', 'of', 'blatant', 'american', 'propaganda'], ['i', 'cannot', 'believe', 'that', 'the', 'actors', 'agreed', 'to', 'do', 'this', '\"film\"'], ['waaaaaayyyyyyyyyy', 'over', 'rated', 'is', 'all', 'i', 'am', 'saying'], ['i', 'bought', 'this', 'phone', 'as', 'a', 'replacement', 'for', 'my', 'startac', 'and', 'have', 'regretted', 'it', 'since'], ['tonight', 'i', 'had', 'the', 'elk', 'filet', 'special', 'and', 'it', 'sucked'], ['the', 'only', 'reason', 'to', 'eat', 'here', 'would', 'be', 'to', 'fill', 'up', 'before', 'a', 'night', 'of', 'binge', 'drinking', 'just', 'to', 'get', 'some', 'carbs', 'in', 'your', 'stomach'], ['the', 'ngage', 'is', 'still', 'lacking', 'in', 'earbuds'], ['it', 'wasnt', 'busy', 'either', 'also', 'the', 'building', 'was', 'freezing', 'cold'], ['oh', 'yeah', 'and', 'the', 'storyline', 'was', 'pathetic', 'too'], ['another', 'thing', 'i', 'didnt', 'really', 'like', 'is', 'when', 'a', 'character', 'got', 'punched', 'in', 'the', 'face', 'a', 'gallon', 'of', 'blood', 'would', 'spew', 'forth', 'soon', 'after'], ['its', 'this', 'pandering', 'to', 'the', 'audience', 'that', 'sabotages', 'most', 'of', 'his', 'films'], ['im', 'translating', 'movies', 'for', 'a', 'living', 'and', 'this', 'is', 'the', 'first', 'movie', 'in', 'my', 'year', 'working', 'experience', 'that', 'i', 'found', 'offensive', 'to', 'my', 'intelligence'], ['you', 'get', 'what', 'you', 'pay', 'for', 'i', 'guess'], ['this', 'scene', 'is', 'very', 'strong', 'and', 'unpleasant'], ['this', 'film', 'tries', 'to', 'be', 'a', 'serious', 'and', 'sophisticated', 'thriller', 'horror', 'flick', 'and', 'it', 'fails', 'miserably'], ['shrimp', 'when', 'i', 'unwrapped', 'it', 'i', 'live', 'only', 'a', 'mile', 'from', 'brushfire', 'it', 'was', 'literally', 'ice', 'cold'], ['a', 'bit', 'predictable'], ['aside', 'from', 'its', 'terrible', 'lead', 'this', 'film', 'has', 'loads', 'of', 'other', 'debits'], ['the', 'budget', 'was', 'evidently', 'very', 'limited'], ['is', 'it', 'possible', 'for', 'a', 'movie', 'to', 'get', 'any', 'worse', 'than', 'this'], ['really', 'bad'], ['sorry', 'i', 'will', 'not', 'be', 'getting', 'food', 'from', 'here', 'anytime', 'soon'], ['the', 'poor', 'batter', 'to', 'meat', 'ratio', 'made', 'the', 'chicken', 'tenders', 'very', 'unsatisfying'], ['the', 'holster', 'that', 'arrived', 'did', 'not', 'match', 'the', 'photo', 'in', 'the', 'ad'], ['its', 'one', 'of', 'the', 'most', 'boring', 'horror', 'movies', 'from', 'the', 's', 'mainly', 'because', 'it', 'starts', 'slow', 'and', 'centers', 'in', 'a', 'boring', 'atmosphere'], ['to', 'those', 'who', 'find', 'this', 'movie', 'intelligent', 'or', 'even', 'masterful', 'i', 'can', 'only', 'say', 'its', 'your', 'intelligence', 'and', 'your', 'imagination', 'you', 'obviously', 'used', 'to', 'try', 'and', 'make', 'some', 'sense', 'of', 'this', 'pitiful', 'attempt', 'its', 'in', 'our', 'human', 'nature', 'to', 'try', 'and', 'make', 'sense', 'of', 'things'], ['con', 'spotty', 'service'], ['in', 'my', 'house', 'i', 'was', 'getting', 'dropped', 'coverage', 'upstairs', 'and', 'no', 'coverage', 'in', 'my', 'basement'], ['the', 'bottowm', 'line', 'another', 'worthless', 'cheap', 'gimmick', 'from', 'sprint'], ['does', 'not', 'work', 'for', 'listening', 'to', 'music', 'with', 'the', 'cingular'], ['the', 'script', 'looks', 'as', 'if', 'only', 'a', 'rough', 'draft', 'was', 'written', 'and', 'shooting', 'began', 'before', 'a', 'finished', 'script', 'was', 'completed'], ['im', 'trying', 'to', 'return', 'it', 'for', 'a', 'refund'], ['battery', 'life', 'still', 'not', 'long', 'enough', 'in', 'motorola', 'razor', 'vi'], ['this', 'was', 'utterly', 'confusing', 'at', 'first', 'which', 'caused', 'me', 'to', 'lose', 'a', 'couple', 'of', 'very', 'very', 'important', 'contacts'], ['its', 'so', 'stupid', 'to', 'have', 'to', 'keep', 'buying', 'new', 'chargers', 'car', 'chargers', 'cradles', 'headphones', 'and', 'car', 'kits', 'every', 'time', 'a', 'new', 'phone', 'comes', 'out'], ['the', 'dialogue', 'is', 'atrocious'], ['if', 'you', 'see', 'it', 'you', 'should', 'probably', 'just', 'leave', 'it', 'on', 'the', 'shelf'], ['dont', 'waste', 'your', 'money'], ['i', 'guess', 'maybe', 'we', 'went', 'on', 'an', 'off', 'night', 'but', 'it', 'was', 'disgraceful'], ['the', 'directing', 'is', 'sloppy', 'at', 'best'], ['they', 'never', 'brought', 'a', 'salad', 'we', 'asked', 'for'], ['even', 'the', 'squibs', 'look', 'awful'], ['defective', 'crap'], ['there', 'is', 'nothing', 'authentic', 'about', 'this', 'place'], ['uncomfortable', 'in', 'the', 'ear', 'dont', 'use', 'with', 'lg', 'vx', 'env'], ['awful'], ['tasted', 'like', 'dirt'], ['i', 'understand', 'that', 'its', 'supposed', 'to', 'be', 'a', 'cheap', 'popcorn', 'comedy', 'but', 'that', 'doesnt', 'mean', 'that', 'it', 'has', 'to', 'completely', 'insult', 'our', 'intelligence', 'and', 'have', 'writing', 'so', 'incredibly', 'hackneyed', 'that', 'it', 'borders', 'on', 'offensive'], ['but', 'i', 'dont', 'like', 'it'], ['horrible', 'had', 'to', 'switch', 'times'], ['the', 'plot', 'was', 'the', 'same', 'as', 'pretty', 'much', 'every', 'other', 'cheap', 'horror'], ['a', 'fly', 'was', 'in', 'my', 'apple', 'juice', 'a', 'fly'], ['save', 'your', 'money', 'ive', 'had', 'this', 'item', 'for', 'months', 'now'], ['i', 'also', 'decided', 'not', 'to', 'send', 'it', 'back', 'because', 'our', 'waitress', 'looked', 'like', 'she', 'was', 'on', 'the', 'verge', 'of', 'having', 'a', 'heart', 'attack'], ['crash', 'is', 'a', 'depressing', 'little', 'nothing', 'that', 'provokes', 'emotion', 'but', 'teaches', 'you', 'nothing', 'if', 'you', 'already', 'know', 'racism', 'and', 'prejudice', 'are', 'bad', 'things'], ['the', 'food', 'was', 'terrible'], ['regardless', 'the', 'film', 'fails', 'on', 'most', 'levels'], ['i', 'couldnt', 'take', 'them', 'seriously'], ['worthless', 'product'], ['also', 'the', 'area', 'where', 'my', 'unit', 'broke', 'im', 'not', 'too', 'fond', 'of', 'the', 'magnetic', 'strap'], ['your', 'brain', 'will', 'attempt', 'to', 'shut', 'down', 'as', 'part', 'of', 'a', 'primal', 'impulse', 'of', 'self', 'preservation'], ['the', 'pizza', 'tasted', 'old', 'super', 'chewy', 'in', 'not', 'a', 'good', 'way'], ['the', 'jerky', 'camera', 'movements', 'were', 'also', 'annoying'], ['nothing', 'new', 'there'], ['the', 'script', 'is', 'bad', 'very', 'bad', 'â–', 'it', 'contains', 'both', 'cheesiness', 'and', 'unethical', 'joke', 'that', 'you', 'normally', 'see', 'in', 'rated', 'r', 'or', 'nc', 'movie'], ['the', 'service', 'was', 'meh'], ['im', 'not', 'sure', 'what', 'he', 'was', 'trying', 'to', 'do', 'with', 'this', 'film'], ['people', 'couldnt', 'hear', 'me', 'talk', 'and', 'i', 'had', 'to', 'pull', 'out', 'the', 'earphone', 'and', 'talk', 'on', 'the', 'phone'], ['ive', 'had', 'better', 'bagels', 'from', 'the', 'grocery', 'store'], ['this', 'is', 'by', 'far', 'the', 'worst', 'purchase', 'ive', 'made', 'on', 'amazon'], ['this', 'place', 'should', 'honestly', 'be', 'blown', 'up'], ['reception', 'is', 'terrible', 'and', 'full', 'of', 'static'], ['almost', 'everyone', 'involved', 'must', 'be', 'return', 'to', 'school', 'acting', 'is', 'utterly', 'predictable', 'and', 'bad', 'script', 'is', 'pile', 'of', 'garbage', 'all', 'round'], ['there', 'is', 'so', 'much', 'good', 'food', 'in', 'vegas', 'that', 'i', 'feel', 'cheated', 'for', 'wasting', 'an', 'eating', 'opportunity', 'by', 'going', 'to', 'rice', 'and', 'company'], ['i', 'wouldnt', 'see', 'this', 'movie', 'again', 'for', 'free'], ['down', 'the', 'drain'], ['however', 'i', 'needed', 'some', 'better', 'instructions'], ['horrible', 'dont', 'waste', 'your', 'time', 'and', 'money'], ['doesnt', 'last', 'long'], ['low', 'quality'], ['as', 'for', 'the', '\"mains', '\"', 'also', 'uninspired'], ['but', 'the', 'acting', 'even', 'that', 'of', 'such', 'professionals', 'as', 'drago', 'and', 'debbie', 'rochon', 'was', 'terrible', 'the', 'directing', 'worse', 'perhaps', 'contributory', 'to', 'the', 'former', 'the', 'dialog', 'chimp', 'like', 'and', 'the', 'camera', 'work', 'barely', 'tolerable'], ['if', 'you', 'plan', 'to', 'use', 'this', 'in', 'a', 'car', 'forget', 'about', 'it'], ['this', 'place', 'is', 'not', 'quality', 'sushi', 'it', 'is', 'not', 'a', 'quality', 'restaurant'], ['its', 'dumb', 'and', 'pointless', 'and', 'a', 'complete', 'waste', 'of', 'time'], ['there', 'was', 'nothing', 'believable', 'about', 'it', 'at', 'all'], ['would', 'not', 'go', 'back'], ['i', 'wouldnt', 'recommend', 'buying', 'this', 'product'], ['the', 'only', 'suspense', 'i', 'was', 'feeling', 'was', 'the', 'frustration', 'at', 'just', 'how', 'retarded', 'the', 'girls', 'were'], ['as', 'a', 'sushi', 'lover', 'avoid', 'this', 'place', 'by', 'all', 'means'], ['the', 'management', 'is', 'rude'], ['we', 'waited', 'for', 'thirty', 'minutes', 'to', 'be', 'seated', 'although', 'there', 'were', 'vacant', 'tables', 'and', 'we', 'were', 'the', 'only', 'folks', 'waiting'], ['putting', 'the', 'race', 'card', 'aside', 'lets', 'look', 'at', 'the', 'major', 'flaw', 'in', 'the', 'film', 'they', 'destroy', 'latifas', 'character'], ['truly', 'awful'], ['the', 'chips', 'that', 'came', 'out', 'were', 'dripping', 'with', 'grease', 'and', 'mostly', 'not', 'edible'], ['i', 'swung', 'in', 'to', 'give', 'them', 'a', 'try', 'but', 'was', 'deeply', 'disappointed'], ['not', 'even', 'good', 'for', 'camp', 'value'], ['i', 'was', 'very', 'disappointed', 'in', 'the', 'movie'], ['very', 'much', 'disappointed', 'with', 'this', 'company'], ['i', 'know', 'this', 'is', 'not', 'like', 'the', 'other', 'restaurants', 'at', 'all', 'something', 'is', 'very', 'off', 'here'], ['you', 'cant', 'even', 'tell', 'if', 'they', 'have', 'any', 'talent', 'because', 'they', 'not', 'only', 'have', 'pathetic', 'lines', 'to', 'speak', 'but', 'the', 'director', 'gave', 'them', 'no', 'action'], ['ive', 'also', 'had', 'problems', 'with', 'the', 'phone', 'reading', 'the', 'memory', 'card', 'in', 'which', 'i', 'always', 'turn', 'it', 'on', 'and', 'then', 'off', 'again'], ['sprint', 'charges', 'for', 'this', 'service'], ['the', 'mic', 'there', 'is', 'a', 'joke', 'and', 'the', 'volume', 'is', 'quite', 'low'], ['it', 'came', 'free', 'with', 'a', 'dvd', 'player', 'i', 'bought', 'but', 'i', 'still', 'turned', 'the', 'thing', 'off', 'halfway', 'through', 'because', 'i', 'was', 'embarrassed', 'for', 'howell'], ['the', 'internet', 'access', 'was', 'fine', 'it', 'the', 'rare', 'instance', 'that', 'it', 'worked'], ['bt', 'battery', 'junk'], ['i', 'started', 'this', 'review', 'with', 'two', 'stars', 'but', 'im', 'editing', 'it', 'to', 'give', 'it', 'only', 'one'], ['service', 'stinks', 'here'], ['this', 'place', 'deserves', 'no', 'stars'], ['poor', 'service', 'the', 'waiter', 'made', 'me', 'feel', 'like', 'i', 'was', 'stupid', 'every', 'time', 'he', 'came', 'to', 'the', 'table'], ['too', 'bad', 'you', 'have', 'to', 'pay', 'up', 'to', 'a', 'month', 'for', 'the', 'service'], ['not', 'much', 'seafood', 'and', 'like', 'strings', 'of', 'pasta', 'at', 'the', 'bottom'], ['took', 'an', 'hour', 'to', 'get', 'our', 'food', 'only', 'tables', 'in', 'restaurant', 'my', 'food', 'was', 'luke', 'warm', 'our', 'sever', 'was', 'running', 'around', 'like', 'he', 'was', 'totally', 'overwhelmed'], ['i', 'was', 'bored', 'throughout', 'the', 'whole', 'damn', 'thing'], ['its', 'too', 'bad', 'the', 'food', 'is', 'so', 'damn', 'generic'], ['dont', 'make', 'the', 'same', 'mistake', 'i', 'did'], ['long', 'whiny', 'and', 'pointless'], ['it', 'is', 'a', 'film', 'about', 'nothing', 'just', 'a', 'pretext', 'to', 'show', 'ridiculous', 'action', 'scenes'], ['ill', 'take', 'my', 'business', 'dinner', 'dollars', 'elsewhere'], ['using', 'all', 'earpieces', 'left', 'or', 'right', 'this', 'thing', 'will', 'not', 'stay', 'on', 'my', 'ear'], ['this', 'is', 'a', 'chilly', 'unremarkable', 'movie', 'about', 'an', 'author', 'living', 'working', 'in', 'a', 'chilly', 'abstruse', 'culture'], ['finally', 'after', 'three', 'or', 'four', 'times', 'the', 'spring', 'of', 'the', 'latch', 'broke', 'and', 'i', 'could', 'not', 'use', 'it', 'any', 'longer', 'on', 'the', 'visor'], ['for', 'bucks', 'a', 'head', 'i', 'really', 'expect', 'better', 'food'], ['i', 'could', 'not', 'understand', 'what', 'kind', 'of', 'idiot', 'would', 'produce', 'this', 'mess', 'in', 'the', 'first', 'place', 'not', 'to', 'mention', 'several', 'season'], ['i', 'kept', 'looking', 'at', 'the', 'time', 'and', 'it', 'had', 'soon', 'become', 'minutes', 'yet', 'still', 'no', 'food'], ['the', 'design', 'might', 'be', 'ergonomic', 'in', 'theory', 'but', 'i', 'could', 'not', 'stand', 'having', 'these', 'in', 'my', 'ear'], ['steer', 'clear', 'of', 'this', 'product', 'and', 'go', 'with', 'the', 'genuine', 'palm', 'replacementr', 'pens', 'which', 'come', 'in', 'a', 'three', 'pack'], ['the', 'least', 'said', 'about', 'the', 'acting', 'the', 'better'], ['i', 'got', 'the', 'car', 'charger', 'and', 'not', 'even', 'after', 'a', 'week', 'the', 'charger', 'was', 'broken', 'i', 'went', 'to', 'plug', 'it', 'in', 'and', 'it', 'started', 'smoking'], ['internet', 'is', 'excrutiatingly', 'slow'], ['really', 'awful'], ['these', 'are', 'the', 'central', 'themes', 'of', 'the', 'film', 'and', 'they', 'are', 'handled', 'ineptly', 'stereotypically', 'and', 'with', 'no', 'depth', 'of', 'imagination'], ['i', 'just', 'wanted', 'to', 'leave'], ['i', 'find', 'wasting', 'food', 'to', 'be', 'despicable', 'but', 'this', 'just', 'wasnt', 'food'], ['its', 'like', 'a', 'bad', 'two', 'hour', 'tv', 'movie'], ['it', 'really', 'is', 'impressive', 'that', 'the', 'place', 'hasnt', 'closed', 'down'], ['i', 'put', 'the', 'latest', 'os', 'on', 'it', 'v', 'g', 'and', 'it', 'now', 'likes', 'to', 'slow', 'to', 'a', 'crawl', 'and', 'lock', 'up', 'every', 'once', 'in', 'a', 'while'], ['the', 'attempts', 'at', 'humor', 'were', 'pitiful', 'and', 'story', 'is', 'so', 'awful', 'it', 'dosent', 'bear', 'thinking', 'about', 'which', 'basically', 'involves', 'a', 'vulcan', 'stealing', 'the', 'enterprise', 'to', 'find', 'god', 'seriously', 'i', 'just', 'didnt', 'care', 'about', 'any', 'of', 'this', 'film', 'and', 'oh', 'not', 'to', 'mention', 'uhura', 'does', 'a', 'belly', 'dance', 'to', 'distract', 'male', 'guards'], ['the', 'service', 'was', 'extremely', 'slow'], ['one', 'of', 'the', 'worst', 'shows', 'of', 'all', 'time'], ['wont', 'go', 'back'], ['it', 'did', 'not', 'work', 'in', 'my', 'cell', 'phone', 'plug', 'i', 'am', 'very', 'up', 'set', 'with', 'the', 'charger'], ['this', 'phone', 'might', 'well', 'be', 'the', 'worst', 'ive', 'ever', 'had', 'in', 'any', 'brand'], ['this', 'is', 'not', 'movie', 'making'], ['i', 'had', 'to', 'wait', 'over', 'minutes', 'to', 'get', 'my', 'drink', 'and', 'longer', 'to', 'get', 'arepas'], ['trouble', 'is', 'the', 'writing', 'and', 'directing', 'make', 'it', 'impossible', 'to', 'establish', 'those', 'things', 'that', 'make', 'a', 'movie', 'watchable', 'like', 'character', 'story', 'theme', 'and', 'so', 'on'], ['the', 'chicken', 'i', 'got', 'was', 'definitely', 'reheated', 'and', 'was', 'only', 'ok', 'the', 'wedges', 'were', 'cold', 'and', 'soggy'], ['ordered', 'burger', 'rare', 'came', 'in', 'well', 'done'], ['as', 'much', 'as', 'id', 'like', 'to', 'go', 'back', 'i', 'cant', 'get', 'passed', 'the', 'atrocious', 'service', 'and', 'will', 'never', 'return'], ['all', 'it', 'took', 'was', 'one', 'drop', 'from', 'about', 'inches', 'above', 'the', 'kitchen', 'counter', 'and', 'it', 'was', 'cracked', 'i', 'am', 'not', 'impressed', 'and', 'i', 'am', 'not', 'laughing'], ['the', 'flat', 'reenactments', 'dont', 'hold', 'your', 'attention', 'because', 'they', 'are', 'emotionally', 'adrift', 'and', 'stagy'], ['perhaps', 'my', 'phone', 'is', 'defective', 'but', 'people', 'cannot', 'hear', 'me', 'when', 'i', 'use', 'this'], ['trying', 'to', 'make', 'a', 'call', 'on', 'these', 'is', 'an', 'exercise', 'in', 'frustration'], ['if', 'there', 'is', 'a', 'wind', 'it', 'is', 'completely', 'useless'], ['highly', 'unprofessional', 'and', 'rude', 'to', 'a', 'loyal', 'patron'], ['well', 'just', 'if', 'you', 'keep', 'thinking', 'how', 'bad', 'it', 'is'], ['the', 'battery', 'life', 'is', 'highly', 'unacceptable'], ['both', 'films', 'are', 'terrible', 'but', 'to', 'the', 'credit', 'of', 'the', 'version', 'it', 'was', 'watchable'], ['not', 'loud', 'enough', 'and', 'doesnt', 'turn', 'on', 'like', 'it', 'should'], ['it', 'was', 'a', 'waste', 'of', 'my', 'money'], ['the', 'service', 'was', 'a', 'little', 'slow', 'considering', 'that', 'were', 'served', 'by', 'people', 'servers', 'so', 'the', 'food', 'was', 'coming', 'in', 'a', 'slow', 'pace'], ['first', 'of', 'all', 'there', 'are', 'enough', 'racial', 'stereotypes', 'and', 'racial', 'jokes', 'to', 'offend', 'everyone'], ['the', 'movie', 'is', 'terribly', 'boring', 'in', 'places'], ['the', 'sangria', 'was', 'about', 'half', 'of', 'a', 'glass', 'wine', 'full', 'and', 'was', 'ridiculous'], ['i', 'am', 'far', 'from', 'a', 'sushi', 'connoisseur', 'but', 'i', 'can', 'definitely', 'tell', 'the', 'difference', 'between', 'good', 'food', 'and', 'bad', 'food', 'and', 'this', 'was', 'certainly', 'bad', 'food'], ['but', 'what', 'really', 'made', 'it', 'unwatchable', 'was', 'the', 'direction'], ['but', 'when', 'i', 'check', 'voice', 'mail', 'at', 'night', 'the', 'keypad', 'backlight', 'turns', 'off', 'a', 'few', 'seconds', 'into', 'the', 'first', 'message', 'and', 'then', 'im', 'lost'], ['it', 'will', 'drive', 'you', 'barking', 'mad'], ['the', 'heart', 'attack', 'grill', 'in', 'downtown', 'vegas', 'is', 'an', 'absolutely', 'flat', 'lined', 'excuse', 'for', 'a', 'restaurant'], ['none', 'of', 'it', 'works', 'just', 'dont', 'buy', 'it'], ['i', 'dont', 'think', 'well', 'be', 'going', 'back', 'anytime', 'soon'], ['what', 'a', 'mistake'], ['the', 'poor', 'actors'], ['i', 'got', 'food', 'poisoning', 'here', 'at', 'the', 'buffet'], ['plug', 'was', 'the', 'wrong', 'size'], ['i', 'used', 'to', 'talk', 'on', 'it', 'for', 'hours', 'and', 'the', 'battery', 'would', 'be', 'literally', 'drained', 'and', 'dying'], ['just', 'dont', 'know', 'why', 'they', 'were', 'so', 'slow'], ['it', 'was', 'just', 'too', 'horrible'], ['you', 'need', 'two', 'hands', 'to', 'operate', 'the', 'screen', 'this', 'software', 'interface', 'is', 'decade', 'old', 'and', 'cannot', 'compete', 'with', 'new', 'software', 'designs'], ['the', 'movie', 'has', 'almost', 'no', 'action', 'scenes', 'in', 'it', 'and', 'very', 'little', 'comedy'], ['also', 'the', 'fries', 'are', 'without', 'a', 'doubt', 'the', 'worst', 'fries', 'ive', 'ever', 'had'], ['not', 'sure', 'who', 'was', 'more', 'lost', 'the', 'flat', 'characters', 'or', 'the', 'audience', 'nearly', 'half', 'of', 'whom', 'walked', 'out'], ['not', 'a', 'good', 'bargain'], ['probably', 'not', 'in', 'a', 'hurry', 'to', 'go', 'back'], ['the', 'desserts', 'were', 'a', 'bit', 'strange'], ['this', 'was', 'like', 'the', 'final', 'blow'], ['they', 'do', 'not', 'care', 'about', 'the', 'consumer', 'one', 'bit'], ['dont', 'bother', 'go', 'to', 'the', 'store'], ['there', 'was', 'hardly', 'any', 'meat'], ['the', 'story', 'starts', 'too', 'fast', 'with', 'absolutely', 'no', 'suspense', 'or', 'build', 'up', 'in', 'the', 'slightest'], ['seafood', 'was', 'limited', 'to', 'boiled', 'shrimp', 'and', 'crab', 'legs', 'but', 'the', 'crab', 'legs', 'definitely', 'did', 'not', 'taste', 'fresh'], ['needless', 'to', 'say', 'i', 'wont', 'be', 'going', 'back', 'anytime', 'soon'], ['i', 'felt', 'as', 'though', 'her', 'going', 'to', 'ireland', 'did', 'absolutely', 'nothing', 'whatsoever'], ['we', 'waited', 'for', 'forty', 'five', 'minutes', 'in', 'vain'], ['i', 'dont', 'know', 'what', 'the', 'big', 'deal', 'is', 'about', 'this', 'place', 'but', 'i', 'wont', 'be', 'back', '\"yaall\"'], ['the', 'sound', 'quality', 'for', 'the', 'device', 'is', 'unacceptable', 'unless', 'you', 'are', 'in', 'a', 'really', 'quiet', 'area', 'you', 'almost', 'hear', 'nothing'], ['the', 'food', 'is', 'not', 'tasty', 'at', 'all', 'not', 'to', 'say', 'its', '\"real', 'traditional', 'hunan', 'style\"'], ['i', 'could', 'barely', 'stomach', 'the', 'meal', 'but', 'didnt', 'complain', 'because', 'it', 'was', 'a', 'business', 'lunch'], ['not', 'only', 'will', 'it', 'drain', 'your', 'player', 'but', 'may', 'also', 'potentially', 'fry', 'it'], ['you', 'have', 'to', 'hold', 'the', 'phone', 'at', 'a', 'particular', 'angle', 'for', 'the', 'other', 'party', 'to', 'hear', 'you', 'clearly'], ['last', 'time', 'buying', 'from', 'you'], ['very', 'dissapointing', 'performance'], ['this', 'movie', 'totally', 'grates', 'on', 'my', 'nerves'], ['there', 'are', 'the', 'usual', 'hitchcock', 'logic', 'flaws'], ['they', 'dropped', 'more', 'than', 'the', 'ball'], ['once', 'your', 'food', 'arrives', 'its', 'meh'], ['i', 'bought', 'these', 'hoping', 'i', 'could', 'make', 'my', 'bluetooth', 'headset', 'fit', 'better', 'but', 'these', 'things', 'made', 'it', 'impossible', 'to', 'wear'], ['hot', 'dishes', 'are', 'not', 'hot', 'cold', 'dishes', 'are', 'close', 'to', 'room', 'temp', 'i', 'watched', 'staff', 'prepare', 'food', 'with', 'bare', 'hands', 'no', 'gloves', 'everything', 'is', 'deep', 'fried', 'in', 'oil'], ['bad', 'script', 'bad', 'direction', 'and', 'horrible', 'acting', 'make', 'this', 'one', 'plain', 'bad']]\n"
     ]
    },
    {
     "ename": "NameError",
     "evalue": "name 'name_of_file' is not defined",
     "output_type": "error",
     "traceback": [
      "\u001b[0;31m---------------------------------------------------------------------------\u001b[0m",
      "\u001b[0;31mNameError\u001b[0m                                 Traceback (most recent call last)",
      "\u001b[0;32m<ipython-input-82-df226f3645cf>\u001b[0m in \u001b[0;36m<module>\u001b[0;34m()\u001b[0m\n\u001b[1;32m     15\u001b[0m \u001b[1;31m#sorted(likelihood_dict.iterkeys())\u001b[0m\u001b[1;33m\u001b[0m\u001b[1;33m\u001b[0m\u001b[0m\n\u001b[1;32m     16\u001b[0m \u001b[1;33m\u001b[0m\u001b[0m\n\u001b[0;32m---> 17\u001b[0;31m \u001b[0mtest_main\u001b[0m\u001b[1;33m(\u001b[0m\u001b[0mname_of_file\u001b[0m\u001b[1;33m)\u001b[0m\u001b[1;33m\u001b[0m\u001b[0m\n\u001b[0m",
      "\u001b[0;31mNameError\u001b[0m: name 'name_of_file' is not defined"
     ]
    }
   ],
   "source": [
    "def main():\n",
    "    script = sys.argv[0]\n",
    "    file_name = sys.argv[1]\n",
    "    run_file(file_name)\n"
   ]
  },
  {
   "cell_type": "code",
   "execution_count": null,
   "metadata": {
    "collapsed": true
   },
   "outputs": [],
   "source": [
    "main()"
   ]
  }
 ],
 "metadata": {
  "kernelspec": {
   "display_name": "Python 3",
   "language": "python",
   "name": "python3"
  },
  "language_info": {
   "codemirror_mode": {
    "name": "ipython",
    "version": 3
   },
   "file_extension": ".py",
   "mimetype": "text/x-python",
   "name": "python",
   "nbconvert_exporter": "python",
   "pygments_lexer": "ipython3",
   "version": "3.6.6"
  }
 },
 "nbformat": 4,
 "nbformat_minor": 2
}
