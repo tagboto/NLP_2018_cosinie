{
 "cells": [
  {
   "cell_type": "code",
   "execution_count": 29,
   "metadata": {},
   "outputs": [],
   "source": [
    "from my_naive_bayes_2 import normalized_NB, unnormalized_NB\n",
    "from my_logistic_regression import normalized_LR, unnormalized_LR, write_results\n",
    "import sys"
   ]
  },
  {
   "cell_type": "code",
   "execution_count": 36,
   "metadata": {},
   "outputs": [],
   "source": [
    "def main():\n",
    "    print(\"logistic regression = lr and naive bayes = nb\")\n",
    "    print(\"normalized = n and unormalized = u\")\n",
    "    print(\"please enter your query in the following format\")\n",
    "    print(\"e.g: lr u test_sentences2.txt\")\n",
    "    \n",
    "    \n",
    "    classifier_type =sys.argv[0]\n",
    "    norm_or_un = sys.argv[1]\n",
    "    file = sys.argv[2]\n",
    "    \n",
    "       \n",
    "    if classifier_type == \"nb\" and norm_or_un == \"u\":\n",
    "        predicions  = unnormalized_NB(file)\n",
    "    elif classifier_type == \"nb\" and norm_or_un == \"n\":\n",
    "        predictions = normalized_NB(file)\n",
    "    elif classifier_type == \"lr\" and norm_or_un == \"n\":\n",
    "        predictions = normalized_LR(file)\n",
    "    elif classifier_type == \"lr\" and norm_or_un == \"u\":\n",
    "         predictions = unnormalized_LR(file)\n",
    "    else:\n",
    "        print(\"You have made an error. Please follow the instructions and try again\")\n",
    "        \n",
    "        sys.exit()\n",
    "        \n",
    "    \n",
    "    write_results(classifier_type, norm_or_un, predictions)"
   ]
  },
  {
   "cell_type": "code",
   "execution_count": 38,
   "metadata": {},
   "outputs": [
    {
     "ename": "TypeError",
     "evalue": "main() takes 0 positional arguments but 3 were given",
     "output_type": "error",
     "traceback": [
      "\u001b[1;31m---------------------------------------------------------------------------\u001b[0m",
      "\u001b[1;31mTypeError\u001b[0m                                 Traceback (most recent call last)",
      "\u001b[1;32m<ipython-input-38-c57410d55eae>\u001b[0m in \u001b[0;36m<module>\u001b[1;34m()\u001b[0m\n\u001b[1;32m----> 1\u001b[1;33m \u001b[0mmain\u001b[0m\u001b[1;33m(\u001b[0m\u001b[1;34m\"nb\"\u001b[0m\u001b[1;33m,\u001b[0m\u001b[1;34m\"u\"\u001b[0m\u001b[1;33m,\u001b[0m\u001b[1;34m\"test_sentences2.txt\"\u001b[0m\u001b[1;33m)\u001b[0m\u001b[1;33m\u001b[0m\u001b[0m\n\u001b[0m",
      "\u001b[1;31mTypeError\u001b[0m: main() takes 0 positional arguments but 3 were given"
     ]
    }
   ],
   "source": [
    "main()"
   ]
  },
  {
   "cell_type": "code",
   "execution_count": null,
   "metadata": {},
   "outputs": [],
   "source": []
  }
 ],
 "metadata": {
  "kernelspec": {
   "display_name": "Python 3",
   "language": "python",
   "name": "python3"
  },
  "language_info": {
   "codemirror_mode": {
    "name": "ipython",
    "version": 3
   },
   "file_extension": ".py",
   "mimetype": "text/x-python",
   "name": "python",
   "nbconvert_exporter": "python",
   "pygments_lexer": "ipython3",
   "version": "3.6.5"
  }
 },
 "nbformat": 4,
 "nbformat_minor": 2
}
