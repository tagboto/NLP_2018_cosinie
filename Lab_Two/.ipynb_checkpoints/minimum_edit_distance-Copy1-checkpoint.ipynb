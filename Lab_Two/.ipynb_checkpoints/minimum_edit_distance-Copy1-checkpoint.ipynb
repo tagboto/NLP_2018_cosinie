{
 "cells": [
  {
   "cell_type": "markdown",
   "metadata": {},
   "source": [
    "# Natural Language Processing Assignment 2\n",
    "## Minimum Edit Distance\n",
    "\n",
    "Name: Zoe Tagboto"
   ]
  },
  {
   "cell_type": "code",
   "execution_count": 28,
   "metadata": {},
   "outputs": [],
   "source": [
    "import numpy as np"
   ]
  },
  {
   "cell_type": "code",
   "execution_count": 29,
   "metadata": {},
   "outputs": [],
   "source": [
    "def min_edit_distance(source_word, target_word):  \n",
    "    # First I find the length of my words and create a matrix\n",
    "    source_word_len = len(source_word)\n",
    "    target_word_len = len(target_word)\n",
    "    matrix = np.zeros ((source_word_len+1, target_word_len+1),np.int64)\n",
    "    \n",
    "    #These are the costs associated with deletion insertion \n",
    "    #and substitution\n",
    "    \n",
    "    del_cost = 1\n",
    "    ins_cost = 1\n",
    "    sub_cost = 2\n",
    "    \n",
    "    for x in range(source_word_len+1):\n",
    "        matrix [x, 0] = x\n",
    "        \n",
    "    for y in range(target_word_len+1):\n",
    "        matrix [0, y] = y\n",
    "        \n",
    "    #This is to compute the minimum edit distance\n",
    "    for x in range(1, source_word_len+1):\n",
    "        for y in range(1, target_word_len+1):\n",
    "            if source_word[x-1] == target_word[y-1]:\n",
    "                matrix [x,y] =  matrix[x-1, y-1]\n",
    "            else:\n",
    "                matrix [x,y] = min(\n",
    "                    matrix[x-1,y] + del_cost,\n",
    "                    matrix[x,y-1] + ins_cost,\n",
    "                    matrix[x-1,y-1] + sub_cost)\n",
    "            \n",
    "            \n",
    "                \n",
    "\n",
    "    print (\"The minimum edit distance between \"+source_word+\" and the \"+target_word+\" is \" + \n",
    "        str(matrix[source_word_len, target_word_len]))"
   ]
  },
  {
   "cell_type": "code",
   "execution_count": 30,
   "metadata": {},
   "outputs": [
    {
     "name": "stdout",
     "output_type": "stream",
     "text": [
      "The minimum edit distance between intention and the execution is 8\n"
     ]
    }
   ],
   "source": [
    "min_edit_distance(\"intention\", \"execution\")"
   ]
  },
  {
   "cell_type": "code",
   "execution_count": null,
   "metadata": {},
   "outputs": [],
   "source": []
  }
 ],
 "metadata": {
  "kernelspec": {
   "display_name": "Python 3",
   "language": "python",
   "name": "python3"
  },
  "language_info": {
   "codemirror_mode": {
    "name": "ipython",
    "version": 3
   },
   "file_extension": ".py",
   "mimetype": "text/x-python",
   "name": "python",
   "nbconvert_exporter": "python",
   "pygments_lexer": "ipython3",
   "version": "3.6.5"
  }
 },
 "nbformat": 4,
 "nbformat_minor": 2
}
